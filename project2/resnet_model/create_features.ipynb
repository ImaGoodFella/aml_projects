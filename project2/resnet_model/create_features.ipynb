{
 "cells": [
  {
   "cell_type": "code",
   "execution_count": null,
   "id": "fd7a4cc4",
   "metadata": {},
   "outputs": [],
   "source": [
    "import pandas as pd\n",
    "import numpy as np\n",
    "\n",
    "import torch\n",
    "\n",
    "import os"
   ]
  },
  {
   "cell_type": "code",
   "execution_count": null,
   "id": "d596f7d2",
   "metadata": {},
   "outputs": [],
   "source": [
    "# Set the fold and the device used to make the prediction\n",
    "\n",
    "current_best_model = \"../models/fold0_resnet_extractor_0.6806640625.pth\"\n",
    "current_fold = 0\n",
    "\n",
    "device = torch.device(\"cuda\" if torch.cuda.is_available() else \"cpu\")\n",
    "if torch.cuda.is_available():\n",
    "    torch.cuda.set_device(1)"
   ]
  },
  {
   "cell_type": "code",
   "execution_count": null,
   "id": "5ffba048",
   "metadata": {},
   "outputs": [],
   "source": [
    "# Load the raw data\n",
    "\n",
    "X_train_raw = pd.read_csv('../X_train.csv', index_col='id')\n",
    "X_test_raw = pd.read_csv('../X_test.csv', index_col='id')\n",
    "y_train_raw = pd.read_csv('../y_train.csv', index_col=0)['y'].to_numpy()"
   ]
  },
  {
   "cell_type": "code",
   "execution_count": null,
   "id": "107d3e3e",
   "metadata": {},
   "outputs": [],
   "source": [
    "# Expand all signals to 6000 length\n",
    "\n",
    "from myutils import multi_features\n",
    "\n",
    "os.environ['OMP_NUM_THREADS'] = \"1\"\n",
    "\n",
    "train_expanded = multi_features(X_train_raw, n_cores=128)\n",
    "test_expanded = multi_features(X_test_raw, n_cores=128)"
   ]
  },
  {
   "cell_type": "code",
   "execution_count": null,
   "id": "f749a510",
   "metadata": {},
   "outputs": [],
   "source": [
    "X_train = np.expand_dims(train_expanded, 1)\n",
    "X_test = np.expand_dims(test_expanded, 1)\n",
    "y_train = y_train_raw"
   ]
  },
  {
   "cell_type": "code",
   "execution_count": null,
   "id": "093e8f66",
   "metadata": {},
   "outputs": [],
   "source": [
    "from resnet import MyDataset\n",
    "from torch.utils.data import DataLoader\n",
    "\n",
    "batch_size=32\n",
    "\n",
    "train_dataset = MyDataset(X_train, y_train)\n",
    "test_dataset = MyDataset(X_test, np.zeros(X_test.shape[0]))\n",
    "train_dataloader = DataLoader(train_dataset, batch_size=batch_size)\n",
    "test_dataloader = DataLoader(test_dataset, batch_size=batch_size)"
   ]
  },
  {
   "cell_type": "code",
   "execution_count": null,
   "id": "4c05e611",
   "metadata": {},
   "outputs": [],
   "source": [
    "from resnet import ResNet1D, linear_feature_extractor_classifier\n",
    "\n",
    "kernel_size = 16\n",
    "stride = 2\n",
    "n_block = 48\n",
    "downsample_gap = 6\n",
    "increasefilter_gap = 12\n",
    "classifier = linear_feature_extractor_classifier(1024, 4)\n",
    "\n",
    "model = ResNet1D(\n",
    "        in_channels=1, \n",
    "        base_filters=128, # 64 for ResNet1D, 352 for ResNeXt1D\n",
    "        kernel_size=kernel_size, \n",
    "        stride=stride, \n",
    "        groups=32, \n",
    "        n_block=n_block, \n",
    "        n_classes=4, \n",
    "        downsample_gap=downsample_gap, \n",
    "        increasefilter_gap=increasefilter_gap, \n",
    "        use_do=True,\n",
    "        classifier=classifier\n",
    ")\n",
    "model.load_state_dict(torch.load(current_best_model))\n",
    "model.dense = torch.nn.Identity()\n",
    "model.to(device)\n",
    "model.eval()"
   ]
  },
  {
   "cell_type": "code",
   "execution_count": null,
   "id": "0e0bc9fa",
   "metadata": {},
   "outputs": [],
   "source": [
    "train_features = []\n",
    "for batch_idx, batch in enumerate(train_dataloader):\n",
    "    input_x, input_y = tuple(t.to(device) for t in batch)\n",
    "    pred = model(input_x)\n",
    "    n_pred = pred.cpu().data.numpy()\n",
    "    train_features += [x for x in n_pred]\n",
    "    \n",
    "print(len(train_features))"
   ]
  },
  {
   "cell_type": "code",
   "execution_count": null,
   "id": "5cbd0813",
   "metadata": {},
   "outputs": [],
   "source": [
    "test_features = []\n",
    "for batch_idx, batch in enumerate(test_dataloader):\n",
    "    input_x, input_y = tuple(t.to(device) for t in batch)\n",
    "    pred = model(input_x)\n",
    "    n_pred = pred.cpu().data.numpy()\n",
    "    test_features += [x for x in n_pred]\n",
    "    \n",
    "print(len(test_features))"
   ]
  },
  {
   "cell_type": "code",
   "execution_count": null,
   "id": "adbd6626",
   "metadata": {},
   "outputs": [],
   "source": [
    "resnet_training = np.array(train_features)\n",
    "resnet_test = np.array(test_features)"
   ]
  },
  {
   "cell_type": "code",
   "execution_count": null,
   "id": "47483162",
   "metadata": {},
   "outputs": [],
   "source": [
    "np.savetxt(f\"resnet_training_features{current_fold}.txt\", resnet_training, delimiter=',')\n",
    "np.savetxt(f\"resnet_test_features{current_fold}.txt\", resnet_test, delimiter=',')"
   ]
  },
  {
   "cell_type": "code",
   "execution_count": null,
   "id": "b8892957",
   "metadata": {},
   "outputs": [],
   "source": []
  }
 ],
 "metadata": {
  "kernelspec": {
   "display_name": "Python 3 (ipykernel)",
   "language": "python",
   "name": "python3"
  },
  "language_info": {
   "codemirror_mode": {
    "name": "ipython",
    "version": 3
   },
   "file_extension": ".py",
   "mimetype": "text/x-python",
   "name": "python",
   "nbconvert_exporter": "python",
   "pygments_lexer": "ipython3",
   "version": "3.8.10"
  }
 },
 "nbformat": 4,
 "nbformat_minor": 5
}
