{
 "cells": [
  {
   "cell_type": "code",
   "execution_count": null,
   "id": "ad075434",
   "metadata": {},
   "outputs": [],
   "source": [
    "from sklearn.model_selection import StratifiedKFold\n",
    "import pandas as pd\n",
    "import numpy as np\n",
    "import json"
   ]
  },
  {
   "cell_type": "code",
   "execution_count": null,
   "id": "cbc25e84",
   "metadata": {},
   "outputs": [],
   "source": [
    "X_train_raw = pd.read_csv('../X_train.csv', index_col='id')\n",
    "y_train_raw = pd.read_csv('../y_train.csv', index_col='id')"
   ]
  },
  {
   "cell_type": "code",
   "execution_count": null,
   "id": "36a37029",
   "metadata": {},
   "outputs": [],
   "source": [
    "n_splits = 5\n",
    "skf = StratifiedKFold(n_splits=n_splits)\n",
    "\n",
    "for i, (train_index, val_index) in enumerate(skf.split(X=X_train_raw, y=y_train_raw)):\n",
    "    \n",
    "    with open(\"train\" + str(i) + \".json\", \"w\") as outfile:\n",
    "        json.dump(train_index.tolist(), outfile)\n",
    "    \n",
    "    with open(\"val\" + str(i) + \".json\", \"w\") as outfile:\n",
    "        json.dump(val_index.tolist(), outfile)"
   ]
  },
  {
   "cell_type": "code",
   "execution_count": null,
   "id": "8b6fcdfd",
   "metadata": {},
   "outputs": [],
   "source": []
  }
 ],
 "metadata": {
  "kernelspec": {
   "display_name": "Python 3 (ipykernel)",
   "language": "python",
   "name": "python3"
  },
  "language_info": {
   "codemirror_mode": {
    "name": "ipython",
    "version": 3
   },
   "file_extension": ".py",
   "mimetype": "text/x-python",
   "name": "python",
   "nbconvert_exporter": "python",
   "pygments_lexer": "ipython3",
   "version": "3.8.10"
  }
 },
 "nbformat": 4,
 "nbformat_minor": 5
}
