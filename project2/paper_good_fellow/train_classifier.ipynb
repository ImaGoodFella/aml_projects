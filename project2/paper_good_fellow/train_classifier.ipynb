{
 "cells": [
  {
   "cell_type": "code",
   "execution_count": null,
   "id": "dc365878",
   "metadata": {},
   "outputs": [],
   "source": [
    "import pandas as pd\n",
    "import numpy as np\n",
    "\n",
    "import torch\n",
    "\n",
    "import os"
   ]
  },
  {
   "cell_type": "code",
   "execution_count": null,
   "id": "3ef47588",
   "metadata": {},
   "outputs": [],
   "source": [
    "# Set the fold and the device used for training\n",
    "\n",
    "current_fold = 0\n",
    "device_str = \"cpu\"\n",
    "device = torch.device(\"cuda\" if torch.cuda.is_available() else \"cpu\")\n",
    "if torch.cuda.is_available():\n",
    "    torch.cuda.set_device(0)\n",
    "    device_str = \"cuda\""
   ]
  },
  {
   "cell_type": "code",
   "execution_count": null,
   "id": "824665a0",
   "metadata": {},
   "outputs": [],
   "source": [
    "# Load the raw data\n",
    "\n",
    "X_train_raw = pd.read_csv('../X_train.csv', index_col='id')\n",
    "y_train_raw = pd.read_csv('../y_train.csv', index_col=0)['y'].to_numpy()"
   ]
  },
  {
   "cell_type": "code",
   "execution_count": null,
   "id": "2f314622",
   "metadata": {},
   "outputs": [],
   "source": [
    "# Expand all signals to 18000 length\n",
    "\n",
    "from myutils import multi_features\n",
    "\n",
    "os.environ['OMP_NUM_THREADS'] = \"1\"\n",
    "\n",
    "train_expanded = multi_features(X_train_raw, n_cores=128)"
   ]
  },
  {
   "cell_type": "code",
   "execution_count": null,
   "id": "e61f8986",
   "metadata": {},
   "outputs": [],
   "source": [
    "import json\n",
    "\n",
    "def load_file(name, index):\n",
    "    \n",
    "    path = '../split/'\n",
    "    with open(path + name + str(index) + \".json\") as f:\n",
    "        arr = json.load(f)\n",
    "        \n",
    "    return arr\n",
    "    \n",
    "train_indices = np.array(load_file('train', current_fold))\n",
    "val_indices = np.array(load_file('val', current_fold))\n",
    "\n",
    "X_train = train_expanded.iloc[train_indices]\n",
    "X_val = train_expanded.iloc[val_indices]\n",
    "y_train = y_train_raw[train_indices]\n",
    "y_val = y_train_raw[val_indices]\n",
    "X_train = np.expand_dims(X_train, 1)\n",
    "X_val = np.expand_dims(X_val, 1)\n",
    "\n",
    "print(X_train.shape, y_train.shape)"
   ]
  },
  {
   "cell_type": "code",
   "execution_count": null,
   "id": "fb18d16c",
   "metadata": {},
   "outputs": [],
   "source": [
    "from deepnet import MyDataset\n",
    "from torch.utils.data import DataLoader\n",
    "\n",
    "batch_size = 32\n",
    "\n",
    "dataset = MyDataset(X_train, y_train)\n",
    "val_dataset = MyDataset(X_val, y_val)\n",
    "dataloader = DataLoader(dataset, batch_size=batch_size)\n",
    "val_dataloader = DataLoader(val_dataset, batch_size=batch_size)"
   ]
  },
  {
   "cell_type": "code",
   "execution_count": null,
   "id": "6761ccea",
   "metadata": {},
   "outputs": [],
   "source": [
    "from torchsummary import summary\n",
    "from deepnet import DeepNet\n",
    "\n",
    "model = DeepNet(in_channels=18000, n_classes=4).to(device)\n",
    "\n",
    "print(X_train.shape[1], X_train.shape[2])\n",
    "summary(model, (X_train.shape[1], X_train.shape[2]), device=device_str)"
   ]
  },
  {
   "cell_type": "code",
   "execution_count": null,
   "id": "05c93e86",
   "metadata": {},
   "outputs": [],
   "source": [
    "import torch.optim as optim\n",
    "\n",
    "model.verbose = False\n",
    "optimizer = optim.Adam(model.parameters(), lr=1e-3, weight_decay=0)\n",
    "scheduler = torch.optim.lr_scheduler.ReduceLROnPlateau(optimizer, mode='min', factor=0.1, patience=10)\n",
    "loss_func = torch.nn.CrossEntropyLoss()"
   ]
  },
  {
   "cell_type": "code",
   "execution_count": null,
   "id": "7400b998",
   "metadata": {},
   "outputs": [],
   "source": [
    "from sklearn.metrics import f1_score\n",
    "from tqdm import tqdm\n",
    "\n",
    "n_epoch = 100\n",
    "step = 50\n",
    "curr_best = 0\n",
    "curr_name = \"\"\n",
    "for _ in tqdm(range(n_epoch), desc=\"epoch\"):\n",
    "    \n",
    "    \n",
    "    # train\n",
    "    model.train()\n",
    "    prog_iter = dataloader#tqdm(dataloader, desc=\"Training\", leave=True)\n",
    "    for batch_idx, batch in enumerate(prog_iter):\n",
    "        input_x, input_y = tuple(t.to(device) for t in batch)\n",
    "        pred = model(input_x)\n",
    "        loss = loss_func(pred, input_y)\n",
    "        optimizer.zero_grad()\n",
    "        loss.backward()\n",
    "        optimizer.step()\n",
    "        step += 1\n",
    "    \n",
    "    scheduler.step(_)\n",
    "    \n",
    "    # test\n",
    "    model.eval()\n",
    "    prog_iter_val = val_dataloader#tqdm(val_dataloader, desc=\"Testing\")\n",
    "    all_pred_prob = []\n",
    "    true_pred = []\n",
    "    with torch.no_grad():\n",
    "        for batch_idx, batch in enumerate(prog_iter_val):\n",
    "            input_x, input_y = tuple(t.to(device) for t in batch)\n",
    "            pred = model(input_x)\n",
    "            all_pred_prob.append(pred.cpu().data.numpy())\n",
    "            true_pred.append(input_y.cpu().data.numpy())\n",
    "    all_pred_prob = np.concatenate(all_pred_prob)\n",
    "    all_pred = np.argmax(all_pred_prob, axis=1)\n",
    "    \n",
    "    all_true_pred = np.concatenate(true_pred)\n",
    "    \n",
    "    micro_score = f1_score(all_true_pred, all_pred, average=None)\n",
    "    print(micro_score) \n",
    "    \n",
    "    score = f1_score(all_true_pred, all_pred, average='micro')\n",
    "    print(score) \n",
    "    \n",
    "    if (score > curr_best):\n",
    "        try:\n",
    "            os.remove(curr_name)\n",
    "        except:\n",
    "            pass\n",
    "        curr_best = score\n",
    "        curr_name = f\"../models/fold{current_fold}_fella_{score}.pth\"\n",
    "        torch.save(model.state_dict(), curr_name)"
   ]
  },
  {
   "cell_type": "code",
   "execution_count": null,
   "id": "5521b97a",
   "metadata": {},
   "outputs": [],
   "source": []
  }
 ],
 "metadata": {
  "kernelspec": {
   "display_name": "Python 3 (ipykernel)",
   "language": "python",
   "name": "python3"
  },
  "language_info": {
   "codemirror_mode": {
    "name": "ipython",
    "version": 3
   },
   "file_extension": ".py",
   "mimetype": "text/x-python",
   "name": "python",
   "nbconvert_exporter": "python",
   "pygments_lexer": "ipython3",
   "version": "3.8.10"
  }
 },
 "nbformat": 4,
 "nbformat_minor": 5
}
