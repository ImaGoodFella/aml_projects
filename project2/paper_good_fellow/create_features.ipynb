{
 "cells": [
  {
   "cell_type": "code",
   "execution_count": null,
   "id": "fd7a4cc4",
   "metadata": {},
   "outputs": [],
   "source": [
    "import pandas as pd\n",
    "import numpy as np\n",
    "\n",
    "import torch\n",
    "\n",
    "import os"
   ]
  },
  {
   "cell_type": "code",
   "execution_count": null,
   "id": "d596f7d2",
   "metadata": {},
   "outputs": [],
   "source": [
    "# Set the fold and the device used to make the prediction\n",
    "\n",
    "current_best_model = \"../models/fold0_fella_0.8388671875.pth\"\n",
    "current_fold = 0\n",
    "\n",
    "device = torch.device(\"cuda\" if torch.cuda.is_available() else \"cpu\")\n",
    "if torch.cuda.is_available():\n",
    "    torch.cuda.set_device(0)"
   ]
  },
  {
   "cell_type": "code",
   "execution_count": null,
   "id": "5ffba048",
   "metadata": {},
   "outputs": [],
   "source": [
    "# Load the raw data\n",
    "\n",
    "X_train_raw = pd.read_csv('../X_train.csv', index_col='id')\n",
    "X_test_raw = pd.read_csv('../X_test.csv', index_col='id')\n",
    "y_train_raw = pd.read_csv('../y_train.csv', index_col=0)['y'].to_numpy()"
   ]
  },
  {
   "cell_type": "code",
   "execution_count": null,
   "id": "107d3e3e",
   "metadata": {},
   "outputs": [],
   "source": [
    "# Expand all signals to 18000 length\n",
    "\n",
    "from myutils import multi_features\n",
    "\n",
    "os.environ['OMP_NUM_THREADS'] = \"1\"\n",
    "\n",
    "train_expanded = multi_features(X_train_raw, n_cores=128)\n",
    "test_expanded = multi_features(X_test_raw, n_cores=128)"
   ]
  },
  {
   "cell_type": "code",
   "execution_count": null,
   "id": "f749a510",
   "metadata": {},
   "outputs": [],
   "source": [
    "X_train = np.expand_dims(train_expanded, 1)\n",
    "X_test = np.expand_dims(test_expanded, 1)\n",
    "y_train = y_train_raw"
   ]
  },
  {
   "cell_type": "code",
   "execution_count": null,
   "id": "093e8f66",
   "metadata": {},
   "outputs": [],
   "source": [
    "from deepnet import MyDataset\n",
    "from torch.utils.data import DataLoader\n",
    "\n",
    "batch_size=32\n",
    "\n",
    "train_dataset = MyDataset(X_train, y_train)\n",
    "test_dataset = MyDataset(X_test, np.zeros(X_test.shape[0]))\n",
    "train_dataloader = DataLoader(train_dataset, batch_size=batch_size)\n",
    "test_dataloader = DataLoader(test_dataset, batch_size=batch_size)"
   ]
  },
  {
   "cell_type": "code",
   "execution_count": null,
   "id": "4c05e611",
   "metadata": {},
   "outputs": [],
   "source": [
    "from deepnet import DeepNet\n",
    "\n",
    "model = DeepNet(in_channels=18000, n_classes=4).to(device)\n",
    "model.load_state_dict(torch.load(current_best_model))\n",
    "model.dense = torch.nn.Identity()\n",
    "model.to(device)\n",
    "model.eval()"
   ]
  },
  {
   "cell_type": "code",
   "execution_count": null,
   "id": "0e0bc9fa",
   "metadata": {},
   "outputs": [],
   "source": [
    "train_features = []\n",
    "for batch_idx, batch in enumerate(train_dataloader):\n",
    "    input_x, input_y = tuple(t.to(device) for t in batch)\n",
    "    pred = model(input_x)\n",
    "    n_pred = pred.cpu().data.numpy()\n",
    "    train_features += [x for x in n_pred]\n",
    "    \n",
    "print(len(train_features))"
   ]
  },
  {
   "cell_type": "code",
   "execution_count": null,
   "id": "5cbd0813",
   "metadata": {},
   "outputs": [],
   "source": [
    "test_features = []\n",
    "for batch_idx, batch in enumerate(test_dataloader):\n",
    "    input_x, input_y = tuple(t.to(device) for t in batch)\n",
    "    pred = model(input_x)\n",
    "    n_pred = pred.cpu().data.numpy()\n",
    "    test_features += [x for x in n_pred]\n",
    "    \n",
    "print(len(test_features))"
   ]
  },
  {
   "cell_type": "code",
   "execution_count": null,
   "id": "adbd6626",
   "metadata": {},
   "outputs": [],
   "source": [
    "fella_ml_training = np.array(train_features)\n",
    "fella_ml_test = np.array(test_features)"
   ]
  },
  {
   "cell_type": "code",
   "execution_count": null,
   "id": "47483162",
   "metadata": {},
   "outputs": [],
   "source": [
    "np.savetxt(f\"fella_ml_training_features{current_fold}.txt\", fella_ml_training, delimiter=',')\n",
    "np.savetxt(f\"fella_ml_test_features{current_fold}.txt\", fella_ml_test, delimiter=',')"
   ]
  },
  {
   "cell_type": "code",
   "execution_count": null,
   "id": "b8892957",
   "metadata": {},
   "outputs": [],
   "source": []
  }
 ],
 "metadata": {
  "kernelspec": {
   "display_name": "Python 3 (ipykernel)",
   "language": "python",
   "name": "python3"
  },
  "language_info": {
   "codemirror_mode": {
    "name": "ipython",
    "version": 3
   },
   "file_extension": ".py",
   "mimetype": "text/x-python",
   "name": "python",
   "nbconvert_exporter": "python",
   "pygments_lexer": "ipython3",
   "version": "3.8.10"
  }
 },
 "nbformat": 4,
 "nbformat_minor": 5
}
